{
 "cells": [
  {
   "cell_type": "code",
   "execution_count": 2,
   "id": "dcb28704-5dbb-4d81-96f7-2488f2f6225c",
   "metadata": {},
   "outputs": [
    {
     "name": "stdout",
     "output_type": "stream",
     "text": [
      "\n",
      "                \n",
      "                ========== Welcome to Movie Selector 🎬 ==========\n",
      "\n",
      "                    🔍 How would you like to explore movies?\n",
      "             \n",
      "                     1 - Filter by genre, keyword or year 🎯\n",
      "                     2 - Top 5 movies by rating ⭐️\n",
      "                     3 - Top 10 Oscar-winning movies 🏆\n",
      "                     4 - Top 10 Oscar-nominated movies 🏅\n",
      "                     5 - Top 10 longest movies ⏳\n",
      "                     6 - Top 10 underrated movies 🤔\n",
      "           \n",
      "    \n"
     ]
    },
    {
     "name": "stdin",
     "output_type": "stream",
     "text": [
      "\n",
      "👉 Your choice:  1\n"
     ]
    },
    {
     "name": "stdout",
     "output_type": "stream",
     "text": [
      "\n",
      "🎭 Available genres:\n",
      "Action, Adventure, Animation, Biography, Comedy, Crime, Documentary, Drama, Family, Fantasy, History, Horror, Music, Musical, Mystery, News, Romance, Sci-Fi, Short, Sport, Thriller, War, Western\n"
     ]
    },
    {
     "name": "stdin",
     "output_type": "stream",
     "text": [
      "Enter a genre (or leave it blank):  Drama\n",
      "Enter the release year (or leave it blank):  2010\n",
      "Enter the operator for the year [>, <, =, >=, <=]:  \n"
     ]
    },
    {
     "name": "stdout",
     "output_type": "stream",
     "text": [
      "\n",
      "❗ Warning: You must enter both the year and the operator\n"
     ]
    },
    {
     "name": "stdin",
     "output_type": "stream",
     "text": [
      "Enter the release year:  2010\n",
      "Enter the operator for the year [>, <, =, >=, <=]:  =\n",
      "Enter a keyword for the plot (or leave it blank):  Love\n",
      "Enter a keyword for the title (or leave it blank):  \n"
     ]
    },
    {
     "name": "stdout",
     "output_type": "stream",
     "text": [
      "\n",
      "========== 🎉 Great! The movie list is shown above. ==========\n",
      "\n",
      "+--------------------------------------+--------+----------+-----------------------------------+----------------------------+---------------------------------------------------------------------------------+\n",
      "| Title                                |   Year |   Rating | Genres                            | Directors                  | Cast                                                                            |\n",
      "+======================================+========+==========+===================================+============================+=================================================================================+\n",
      "| Happythankyoumoreplease              |   2010 |      6.8 | {'Comedy', 'Romance', 'Drama'}    | [\"Josh Radnor\"]            | [\"Malin Akerman\", \"Michael Algieri\", \"Bram Barouh\", \"Dana Barron\"]              |\n",
      "+--------------------------------------+--------+----------+-----------------------------------+----------------------------+---------------------------------------------------------------------------------+\n",
      "| Oxygen                               |   2010 |      7.2 | {'Drama'}                         | [\"Hans Van Nuffel\"]        | [\"Stef Aerts\", \"Wouter Hendrickx\", \"Marie Vinck\", \"Rik Verheye\"]                |\n",
      "+--------------------------------------+--------+----------+-----------------------------------+----------------------------+---------------------------------------------------------------------------------+\n",
      "| Waiting for Forever                  |   2010 |      6.1 | {'Romance', 'Drama'}              | [\"James Keach\"]            | [\"Rachel Bilson\", \"Tom Sturridge\", \"Richard Jenkins\", \"Blythe Danner\"]          |\n",
      "+--------------------------------------+--------+----------+-----------------------------------+----------------------------+---------------------------------------------------------------------------------+\n",
      "| Heartbeats                           |   2010 |      7.2 | {'Romance', 'Drama'}              | [\"Xavier Dolan\"]           | [\"Monia Chokri\", \"Niels Schneider\", \"Xavier Dolan\", \"Anne Dorval\"]              |\n",
      "+--------------------------------------+--------+----------+-----------------------------------+----------------------------+---------------------------------------------------------------------------------+\n",
      "| The Last Song                        |   2010 |      5.8 | {'Romance', 'Drama'}              | [\"Julie Anne Robinson\"]    | [\"Miley Cyrus\", \"Greg Kinnear\", \"Bobby Coleman\", \"Liam Hemsworth\"]              |\n",
      "+--------------------------------------+--------+----------+-----------------------------------+----------------------------+---------------------------------------------------------------------------------+\n",
      "| Last Night                           |   2010 |      6.6 | {'Romance', 'Drama'}              | [\"Massy Tadjedin\"]         | [\"Keira Knightley\", \"Sam Worthington\", \"Guillaume Canet\", \"Eva Mendes\"]         |\n",
      "+--------------------------------------+--------+----------+-----------------------------------+----------------------------+---------------------------------------------------------------------------------+\n",
      "| On Tour                              |   2010 |      6.6 | {'Comedy', 'Drama'}               | [\"Mathieu Amalric\"]        | [\"Miranda Colclasure\", \"Suzanne Ramsey\", \"Dirty Martini\", \"Julie Atlas Muz\"]    |\n",
      "+--------------------------------------+--------+----------+-----------------------------------+----------------------------+---------------------------------------------------------------------------------+\n",
      "| Open House                           |   2010 |      4.3 | {'Drama', 'Thriller', 'Crime'}    | [\"Andrew Paquin\"]          | [\"Brian Geraghty\", \"Rachel Blanchard\", \"Anna Paquin\", \"Stephen Moyer\"]          |\n",
      "+--------------------------------------+--------+----------+-----------------------------------+----------------------------+---------------------------------------------------------------------------------+\n",
      "| Ways to Live Forever                 |   2010 |      7   | {'Drama', 'Family'}               | [\"Gustavo Ron\"]            | [\"Ben Chaplin\", \"Robbie Kay\", \"Alex Etel\", \"Emilia Fox\"]                        |\n",
      "+--------------------------------------+--------+----------+-----------------------------------+----------------------------+---------------------------------------------------------------------------------+\n",
      "| Submarine                            |   2010 |      7.3 | {'Comedy', 'Romance', 'Drama'}    | [\"Richard Ayoade\"]         | [\"Noah Taylor\", \"Paddy Considine\", \"Craig Roberts\", \"Yasmin Paige\"]             |\n",
      "+--------------------------------------+--------+----------+-----------------------------------+----------------------------+---------------------------------------------------------------------------------+\n",
      "| Charlie St. Cloud                    |   2010 |      6.4 | {'Fantasy', 'Romance', 'Drama'}   | [\"Burr Steers\"]            | [\"Zac Efron\", \"Charlie Tahan\", \"Amanda Crew\", \"Augustus Prew\"]                  |\n",
      "+--------------------------------------+--------+----------+-----------------------------------+----------------------------+---------------------------------------------------------------------------------+\n",
      "| Lovers of Hate                       |   2010 |      6.3 | {'Comedy', 'Drama'}               | [\"Bryan Poyser\"]           | [\"Chris Doubek\", \"Heather Kafka\", \"Alex Karpovsky\", \"Zach Green\"]               |\n",
      "+--------------------------------------+--------+----------+-----------------------------------+----------------------------+---------------------------------------------------------------------------------+\n",
      "| Jack Goes Boating                    |   2010 |      6.4 | {'Comedy', 'Romance', 'Drama'}    | [\"Philip Seymour Hoffman\"] | [\"Philip Seymour Hoffman\", \"John Ortiz\", \"Richard Petrocelli\", \"Tom McCarthy\"]  |\n",
      "+--------------------------------------+--------+----------+-----------------------------------+----------------------------+---------------------------------------------------------------------------------+\n",
      "| Listen to Your Heart                 |   2010 |      7.2 | {'Music', 'Romance', 'Drama'}     | [\"Matt Thompson\"]          | [\"Alexia Rasmussen\", \"Kent Moran\", \"Cybill Shepherd\", \"Shirley Knight\"]         |\n",
      "+--------------------------------------+--------+----------+-----------------------------------+----------------------------+---------------------------------------------------------------------------------+\n",
      "| Remember Me                          |   2010 |      7.2 | {'Romance', 'Drama'}              | [\"Allen Coulter\"]          | [\"Caitlyn Rund\", \"Moisès Acevedo\", \"Noel Rodriguez\", \"Kevin P. McCarthy\"]       |\n",
      "+--------------------------------------+--------+----------+-----------------------------------+----------------------------+---------------------------------------------------------------------------------+\n",
      "| Double Wedding                       |   2010 |      5.7 | {'Comedy', 'Romance', 'Drama'}    | [\"Craig Pryce\"]            | [\"Tia Mowry-Hardrict\", \"Tamera Mowry-Housley\", \"O.T. Fagbenle\", \"Chad Connell\"] |\n",
      "+--------------------------------------+--------+----------+-----------------------------------+----------------------------+---------------------------------------------------------------------------------+\n",
      "| Daydream Nation                      |   2010 |      6.4 | {'Romance', 'Drama'}              | [\"Michael Goldbach\"]       | [\"Kat Dennings\", \"Reece Thompson\", \"Andie MacDowell\", \"Josh Lucas\"]             |\n",
      "+--------------------------------------+--------+----------+-----------------------------------+----------------------------+---------------------------------------------------------------------------------+\n",
      "| Sex and the City 2                   |   2010 |      4.2 | {'Comedy', 'Romance', 'Drama'}    | [\"Michael Patrick King\"]   | [\"Sarah Jessica Parker\", \"Kristin Davis\", \"Cynthia Nixon\", \"Kim Cattrall\"]      |\n",
      "+--------------------------------------+--------+----------+-----------------------------------+----------------------------+---------------------------------------------------------------------------------+\n",
      "| How Do You Know                      |   2010 |      5.3 | {'Comedy', 'Romance', 'Drama'}    | [\"James L. Brooks\"]        | [\"Reese Witherspoon\", \"Paul Rudd\", \"Owen Wilson\", \"Jack Nicholson\"]             |\n",
      "+--------------------------------------+--------+----------+-----------------------------------+----------------------------+---------------------------------------------------------------------------------+\n",
      "| Beginners                            |   2010 |      7.2 | {'Comedy', 'Romance', 'Drama'}    | [\"Mike Mills\"]             | [\"Ewan McGregor\", \"Christopher Plummer\", \"Mèlanie Laurent\", \"Goran Visnjic\"]    |\n",
      "+--------------------------------------+--------+----------+-----------------------------------+----------------------------+---------------------------------------------------------------------------------+\n",
      "| The River Why                        |   2010 |      5.9 | {'Romance', 'Drama'}              | [\"Matthew Leutwyler\"]      | [\"Zach Gilford\", \"Amber Heard\", \"William Hurt\", \"Dallas Roberts\"]               |\n",
      "+--------------------------------------+--------+----------+-----------------------------------+----------------------------+---------------------------------------------------------------------------------+\n",
      "| Tender Son: The Frankenstein Project |   2010 |      5.7 | {'Drama'}                         | [\"Kornèl Mundruczè\"]       | [\"Rudolf Frecska\", \"Lili Monori\", \"Kornèl Mundruczè\", \"Kitty Csèkos\"]           |\n",
      "+--------------------------------------+--------+----------+-----------------------------------+----------------------------+---------------------------------------------------------------------------------+\n",
      "| Man-choo                             |   2010 |      6.9 | {'Drama'}                         | [\"Tae-yong Kim\"]           | [\"Wei Tang\", \"Hyun Bin\", \"James C. Burns\", \"Jun Sung Kim\"]                      |\n",
      "+--------------------------------------+--------+----------+-----------------------------------+----------------------------+---------------------------------------------------------------------------------+\n",
      "| Gang de qin                          |   2010 |      7.3 | {'Comedy', 'Drama'}               | [\"Meng Zhang\"]             | [\"Qianyuan Wang\", \"Yongzhen Guo\", \"Shin-yeong Jang\", \"Qian Liu\"]                |\n",
      "+--------------------------------------+--------+----------+-----------------------------------+----------------------------+---------------------------------------------------------------------------------+\n",
      "| Matching Jack                        |   2010 |      6.5 | {'Drama'}                         | [\"Nadia Tass\"]             | [\"Jacinda Barrett\", \"Richard Roxburgh\", \"Tom Russell\", \"James Nesbitt\"]         |\n",
      "+--------------------------------------+--------+----------+-----------------------------------+----------------------------+---------------------------------------------------------------------------------+\n",
      "| La nostra vita                       |   2010 |      6.6 | {'Drama'}                         | [\"Daniele Luchetti\"]       | [\"Elio Germano\", \"Raoul Bova\", \"Isabella Ragonese\", \"Luca Zingaretti\"]          |\n",
      "+--------------------------------------+--------+----------+-----------------------------------+----------------------------+---------------------------------------------------------------------------------+\n",
      "| Third Star                           |   2010 |      7.7 | {'Drama'}                         | [\"Hattie Dalton\"]          | [\"Tom Burke\", \"Benedict Cumberbatch\", \"JJ Feild\", \"Adam Robertson\"]             |\n",
      "+--------------------------------------+--------+----------+-----------------------------------+----------------------------+---------------------------------------------------------------------------------+\n",
      "| Oki's Movie                          |   2010 |      6.9 | {'Comedy', 'Drama'}               | [\"Sang-soo Hong\"]          | [\"Yu-mi Jeong\", \"Sun-kyun Lee\", \"Seong-kun Mun\"]                                |\n",
      "+--------------------------------------+--------+----------+-----------------------------------+----------------------------+---------------------------------------------------------------------------------+\n",
      "| Ghost                                |   2010 |      5.7 | {'Mystery', 'Fantasy', 'Drama'}   | [\"Tarè Ohtani\"]            | [\"Nanako Matsushima\", \"Seung-heon Song\", \"Mana Ashida\", \"Satoshi Hashimoto\"]    |\n",
      "+--------------------------------------+--------+----------+-----------------------------------+----------------------------+---------------------------------------------------------------------------------+\n",
      "| Ocean Heaven                         |   2010 |      7.7 | {'Drama'}                         | [\"Xiao Lu Xue\"]            | [\"Jet Li\", \"Zhang Wen\", \"Lun Mei Gwei\", \"Yuanyuan Zhu\"]                         |\n",
      "+--------------------------------------+--------+----------+-----------------------------------+----------------------------+---------------------------------------------------------------------------------+\n",
      "| Silent Souls                         |   2010 |      6.7 | {'Romance', 'Drama'}              | [\"Aleksey Fedorchenko\"]    | [\"Igor Sergeev\", \"Yuriy Tsurilo\", \"Yuliya Aug\", \"Viktor Sukhorukov\"]            |\n",
      "+--------------------------------------+--------+----------+-----------------------------------+----------------------------+---------------------------------------------------------------------------------+\n",
      "| Microphone                           |   2010 |      7.3 | {'Comedy', 'Music', 'Drama'}      | [\"Ahmad Abdalla\"]          | [\"Khaled Abol Naga\", \"Menna Shalabi\", \"Yousra El Lozy\", \"Hani Adel\"]            |\n",
      "+--------------------------------------+--------+----------+-----------------------------------+----------------------------+---------------------------------------------------------------------------------+\n",
      "| The Twilight Saga: Eclipse           |   2010 |      4.9 | {'Adventure', 'Fantasy', 'Drama'} | [\"David Slade\"]            | [\"Xavier Samuel\", \"Kristen Stewart\", \"Robert Pattinson\", \"Billy Burke\"]         |\n",
      "+--------------------------------------+--------+----------+-----------------------------------+----------------------------+---------------------------------------------------------------------------------+\n",
      "| I Hate Luv Storys                    |   2010 |      5.6 | {'Comedy', 'Romance', 'Drama'}    | [\"Punit Malhotra\"]         | [\"Imran Khan\", \"Sonam Kapoor\", \"Sammir Dattani\", \"Samir Soni\"]                  |\n",
      "+--------------------------------------+--------+----------+-----------------------------------+----------------------------+---------------------------------------------------------------------------------+\n",
      "| Ghost                                |   2010 |      5.7 | {'Mystery', 'Fantasy', 'Drama'}   | [\"Tarè Ohtani\"]            | [\"Nanako Matsushima\", \"Seung-heon Song\", \"Mana Ashida\", \"Satoshi Hashimoto\"]    |\n",
      "+--------------------------------------+--------+----------+-----------------------------------+----------------------------+---------------------------------------------------------------------------------+\n"
     ]
    },
    {
     "name": "stdin",
     "output_type": "stream",
     "text": [
      "\n",
      "🔎 Add an additional filter? (y/n):  y\n",
      "Enter the language (or leave it blank):  \n",
      "Enter the director (or leave it blank):  David\n",
      "Enter the actor (or leave it blank):  \n",
      "Enter the runtime (or leave it blank):  \n",
      "Enter the operator for the runtime [>, <, =, >=, <=]:  \n"
     ]
    },
    {
     "name": "stdout",
     "output_type": "stream",
     "text": [
      "\n",
      "====== 🎉 Great! The movie list is shown above. ======\n",
      "\n",
      "+----------------------------+--------+----------+-----------------------------------+-----------------+-------------------------------------------------------------------------+\n",
      "| Title                      |   Year |   Rating | Genres                            | Directors       | Cast                                                                    |\n",
      "+============================+========+==========+===================================+=================+=========================================================================+\n",
      "| The Twilight Saga: Eclipse |   2010 |      4.9 | {'Adventure', 'Fantasy', 'Drama'} | [\"David Slade\"] | [\"Xavier Samuel\", \"Kristen Stewart\", \"Robert Pattinson\", \"Billy Burke\"] |\n",
      "+----------------------------+--------+----------+-----------------------------------+-----------------+-------------------------------------------------------------------------+\n",
      "\n",
      "ℹ️ Do you want to see more details about a movie?\n",
      "1. The Twilight Saga: Eclipse\n"
     ]
    },
    {
     "name": "stdin",
     "output_type": "stream",
     "text": [
      "\n",
      "🔢 Enter the movie number or press Enter to skip:  1\n"
     ]
    },
    {
     "name": "stdout",
     "output_type": "stream",
     "text": [
      "\n",
      " ========== 📖 Movie details ==========\n",
      "🎬 Title: The Twilight Saga: Eclipse\n",
      "📅 Year: 2010\n",
      "⭐️ Rating: 4.9\n",
      "🎭 Genres: Adventure, Fantasy, Drama\n",
      "⏱️ Runtime: 124 min\n",
      "🎬 Director: David Slade\n",
      "👥 Cast: Xavier Samuel, Kristen Stewart, Robert Pattinson, Billy Burke\n",
      "📝 Description: As a string of mysterious killings grips Seattle, Bella, whose high school graduation is fast approaching, is forced to choose between her love for vampire Edward and her friendship with werewolf Jacob.\n"
     ]
    },
    {
     "data": {
      "text/html": [
       "<img src=\"https://m.media-amazon.com/images/M/MV5BNDMwNjAzNzYwOF5BMl5BanBnXkFtZTcwMDY5NzcyMw@@._V1_SY1000_SX677_AL_.jpg\"/>"
      ],
      "text/plain": [
       "<IPython.core.display.Image object>"
      ]
     },
     "metadata": {},
     "output_type": "display_data"
    },
    {
     "name": "stdout",
     "output_type": "stream",
     "text": [
      "\n",
      "========== 🍿🥤🎬 Enjoy the movie! ==========\n"
     ]
    },
    {
     "name": "stdin",
     "output_type": "stream",
     "text": [
      "\n",
      "🔄 Continue searching? (y/n):  n\n",
      "\n",
      "🧮 Do you want to see the statistics? (y/n):  y\n"
     ]
    },
    {
     "name": "stdout",
     "output_type": "stream",
     "text": [
      "\n",
      "========== 📊 Statistics by request type ==========\n",
      "\n",
      "+-------------------+---------+\n",
      "| Type              |   Count |\n",
      "+===================+=========+\n",
      "| top5              |      38 |\n",
      "+-------------------+---------+\n",
      "| filter            |      34 |\n",
      "+-------------------+---------+\n",
      "| filter+additional |      17 |\n",
      "+-------------------+---------+\n",
      "| underrated_movies |       6 |\n",
      "+-------------------+---------+\n",
      "| oscar_winners     |       3 |\n",
      "+-------------------+---------+\n",
      "| long_movies       |       2 |\n",
      "+-------------------+---------+\n",
      "| oscar_nominees    |       1 |\n",
      "+-------------------+---------+\n",
      "\n",
      "========== 🗂️ Most popular queries ==========\n",
      "\n",
      "+---------------------------------------------------------------+---------+\n",
      "| Query                                                         |   Count |\n",
      "+===============================================================+=========+\n",
      "| type:top5                                                     |      38 |\n",
      "+---------------------------------------------------------------+---------+\n",
      "| type:underrated_movies                                        |       6 |\n",
      "+---------------------------------------------------------------+---------+\n",
      "| type:oscar_winners                                            |       3 |\n",
      "+---------------------------------------------------------------+---------+\n",
      "| type:long_movies                                              |       2 |\n",
      "+---------------------------------------------------------------+---------+\n",
      "| type:filter, genre:Drama, year:=2011, keyword_plot:love       |       2 |\n",
      "+---------------------------------------------------------------+---------+\n",
      "| type:filter, year:>=2015                                      |       2 |\n",
      "+---------------------------------------------------------------+---------+\n",
      "| genre:Crime, keyword_plot:love                                |       2 |\n",
      "+---------------------------------------------------------------+---------+\n",
      "| type:filter, genre:Drama, keyword_plot:love                   |       1 |\n",
      "+---------------------------------------------------------------+---------+\n",
      "| genre:Romance, year:>2011, keyword_plot:love                  |       1 |\n",
      "+---------------------------------------------------------------+---------+\n",
      "| genre:Romance, year:>2011, keyword_plot:love, directors:Cyril |       1 |\n",
      "+---------------------------------------------------------------+---------+\n",
      "\n",
      "========== 🎭 Statistics by genres ==========\n",
      "\n",
      "+-----------+---------+\n",
      "| Genre     |   Count |\n",
      "+===========+=========+\n",
      "| Drama     |      21 |\n",
      "+-----------+---------+\n",
      "| Romance   |       5 |\n",
      "+-----------+---------+\n",
      "| Thriller  |       2 |\n",
      "+-----------+---------+\n",
      "| War       |       1 |\n",
      "+-----------+---------+\n",
      "| Comedy    |       3 |\n",
      "+-----------+---------+\n",
      "| Action    |       1 |\n",
      "+-----------+---------+\n",
      "| Music     |       1 |\n",
      "+-----------+---------+\n",
      "| Crime     |       3 |\n",
      "+-----------+---------+\n",
      "| Family    |       2 |\n",
      "+-----------+---------+\n",
      "| sport     |       1 |\n",
      "+-----------+---------+\n",
      "| Western   |       1 |\n",
      "+-----------+---------+\n",
      "| Animation |       1 |\n",
      "+-----------+---------+\n",
      "| Horror    |       1 |\n",
      "+-----------+---------+\n",
      "\n",
      "========== 📅 Statistics by years ==========\n",
      "\n",
      "+--------+---------+\n",
      "|   Year |   Count |\n",
      "+========+=========+\n",
      "|   2010 |       8 |\n",
      "+--------+---------+\n",
      "|   2011 |       8 |\n",
      "+--------+---------+\n",
      "|   2015 |       7 |\n",
      "+--------+---------+\n",
      "|   2012 |       4 |\n",
      "+--------+---------+\n",
      "|   2013 |       3 |\n",
      "+--------+---------+\n",
      "|   2008 |       3 |\n",
      "+--------+---------+\n",
      "|   2007 |       1 |\n",
      "+--------+---------+\n",
      "|   2014 |       1 |\n",
      "+--------+---------+\n",
      "|   2009 |       1 |\n",
      "+--------+---------+\n",
      "\n",
      "🎬 See you again! Have a nice day and enjoy your future movie nights! 🍿🥤\n"
     ]
    }
   ],
   "source": [
    "from search import search_movies\n",
    "from logger import get_statistics\n",
    "\n",
    "while True:\n",
    "    search_movies()\n",
    "\n",
    "    if input('\\n🔄 Continue searching? (y/n): ') != 'y':\n",
    "        break\n",
    "\n",
    "if input('\\n🧮 Do you want to see the statistics? (y/n): ') == 'y':\n",
    "    get_statistics()\n",
    "else:\n",
    "    print(\"\\n🎬 See you again! Have a nice day and enjoy your future movie nights! 🍿🥤\")"
   ]
  },
  {
   "cell_type": "code",
   "execution_count": null,
   "id": "23481ac9-4ea2-4b66-81b3-4cd850e50e42",
   "metadata": {},
   "outputs": [],
   "source": []
  }
 ],
 "metadata": {
  "kernelspec": {
   "display_name": "Python 3 (ipykernel)",
   "language": "python",
   "name": "python3"
  },
  "language_info": {
   "codemirror_mode": {
    "name": "ipython",
    "version": 3
   },
   "file_extension": ".py",
   "mimetype": "text/x-python",
   "name": "python",
   "nbconvert_exporter": "python",
   "pygments_lexer": "ipython3",
   "version": "3.12.7"
  }
 },
 "nbformat": 4,
 "nbformat_minor": 5
}
